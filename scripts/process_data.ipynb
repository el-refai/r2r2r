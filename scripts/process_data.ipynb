{
 "cells": [
  {
   "cell_type": "code",
   "execution_count": null,
   "metadata": {},
   "outputs": [],
   "source": [
    "#load current data\n",
    "import h5py\n",
    "import os\n",
    "import matplotlib.pyplot as plt\n",
    "path = '/mnt/8tb-drive/gs_data/yumi_pick_tiger/successes'\n",
    "files = os.listdir(path)\n",
    "\n",
    "for file in files[:3]:\n",
    "    data_path = os.path.join(path, file, 'robot_data/robot_data.h5')\n",
    "    data = h5py.File(data_path)\n",
    "    joints = data['joint_angles']\n",
    "    right_g = joints[:, -1]\n",
    "    left_g = joints[:, -2]  \n",
    "    ee_poses = data['ee_poses']\n",
    "    left_arm = ee_poses[:, :7]\n",
    "    \n",
    "    # plt.plot(left_g)\n",
    "    # plt.figure()\n",
    "    # plt.plot(left_arm[:, 0], label='x')\n",
    "    # plt.plot(left_arm[:, 1], label='y')\n",
    "    # plt.plot(left_arm[:, 2], label='z')\n",
    "    # plt.legend()"
   ]
  }
 ],
 "metadata": {
  "kernelspec": {
   "display_name": "isaaclab",
   "language": "python",
   "name": "python3"
  },
  "language_info": {
   "codemirror_mode": {
    "name": "ipython",
    "version": 3
   },
   "file_extension": ".py",
   "mimetype": "text/x-python",
   "name": "python",
   "nbconvert_exporter": "python",
   "pygments_lexer": "ipython3",
   "version": "3.10.16"
  }
 },
 "nbformat": 4,
 "nbformat_minor": 2
}
